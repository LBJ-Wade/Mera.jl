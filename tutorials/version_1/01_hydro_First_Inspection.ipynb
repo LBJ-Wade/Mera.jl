{
 "cells": [
  {
   "cell_type": "markdown",
   "metadata": {},
   "source": [
    "# 1. Hydro: First Data Inspection"
   ]
  },
  {
   "cell_type": "markdown",
   "metadata": {},
   "source": [
    "## Simulation Overview"
   ]
  },
  {
   "cell_type": "code",
   "execution_count": 1,
   "metadata": {},
   "outputs": [
    {
     "name": "stdout",
     "output_type": "stream",
     "text": [
      "[Mera]: 2019-12-04T19:54:44.517\n",
      "\n",
      "Code: RAMSES\n",
      "output [400] summary:\n",
      "-------------------------------------------------------\n",
      "simulation time: 594.98 [Myr]\n",
      "boxlen: 48.0 [kpc]\n",
      "ncpu: 2048\n",
      "ndim: 3\n",
      "\n",
      "amr:           true\n",
      "level(s): 6 - 14 --> cellsize(s): 750.0 [pc] - 2.93 [pc]\n",
      "\n",
      "hydro:         true\n",
      "hydro-variables:  7  --> (:rho, :vx, :vy, :vz, :p, :var6, :var7)\n",
      "hydro-descriptor: (:density, :velocity_x, :velocity_y, :velocity_z, :thermal_pressure, :passive_scalar_1, :passive_scalar_2)\n",
      "γ: 1.6667\n",
      "\n",
      "gravity:       true\n",
      "particles:     true\n",
      "- Npart:    5.091500e+05 \n",
      "- Nstars:   5.066030e+05 \n",
      "- Ndm:      2.547000e+03 \n",
      "- Nsinks:   0.000000e+00 \n",
      "\n",
      "clumps:        true\n",
      "namelist-file: true\n",
      "\n",
      "timer-file:       false\n",
      "compilation-file: true\n",
      "makefile:         true\n",
      "patchfile:        true\n",
      "-------------------------------------------------------\n",
      "\n"
     ]
    }
   ],
   "source": [
    "using Mera\n",
    "info = getinfo(400, \"../simulations/\");"
   ]
  },
  {
   "cell_type": "markdown",
   "metadata": {},
   "source": [
    "Existing descriptor names for the variables can be used (:density, :velocity_x, :velocity_y, :velocity_z, :thermal_pressure, :passive_scalar_1, :passive_scalar_2) instead of the predefined names (:rho, :vx, :vy, :vz, :p, :var6, :var7). Furthermore, the user has the opportunity to overwrite the full list of descriptor names by changing the entries:"
   ]
  },
  {
   "cell_type": "code",
   "execution_count": 4,
   "metadata": {},
   "outputs": [
    {
     "data": {
      "text/plain": [
       "(:hydro, :usehydro, :hydrofile, :particles, :useparticles, :particlesfile, :gravity, :usegravity, :gravityfile, :clumps, :useclumps, :clumpsfile, :sinks, :usesinks, :sinksfile)"
      ]
     },
     "execution_count": 4,
     "metadata": {},
     "output_type": "execute_result"
    }
   ],
   "source": [
    "propertynames(info.descriptor)"
   ]
  },
  {
   "cell_type": "code",
   "execution_count": 5,
   "metadata": {},
   "outputs": [
    {
     "data": {
      "text/plain": [
       "7-element Array{Symbol,1}:\n",
       " :density         \n",
       " :velocity_x      \n",
       " :velocity_y      \n",
       " :velocity_z      \n",
       " :thermal_pressure\n",
       " :passive_scalar_1\n",
       " :passive_scalar_2"
      ]
     },
     "execution_count": 5,
     "metadata": {},
     "output_type": "execute_result"
    }
   ],
   "source": [
    "info.descriptor.hydro"
   ]
  },
  {
   "cell_type": "code",
   "execution_count": 6,
   "metadata": {},
   "outputs": [],
   "source": [
    "info.descriptor.hydro[2] = :vel_x;"
   ]
  },
  {
   "cell_type": "code",
   "execution_count": 7,
   "metadata": {},
   "outputs": [
    {
     "data": {
      "text/plain": [
       "7-element Array{Symbol,1}:\n",
       " :density         \n",
       " :vel_x           \n",
       " :velocity_y      \n",
       " :velocity_z      \n",
       " :thermal_pressure\n",
       " :passive_scalar_1\n",
       " :passive_scalar_2"
      ]
     },
     "execution_count": 7,
     "metadata": {},
     "output_type": "execute_result"
    }
   ],
   "source": [
    "info.descriptor.hydro"
   ]
  },
  {
   "cell_type": "markdown",
   "metadata": {},
   "source": [
    "These names are now considered in all functions if the following field is set to *true*:"
   ]
  },
  {
   "cell_type": "code",
   "execution_count": 8,
   "metadata": {},
   "outputs": [],
   "source": [
    "info.descriptor.usehydro = true;"
   ]
  },
  {
   "cell_type": "markdown",
   "metadata": {},
   "source": [
    "## Load AMR/Hydro Data"
   ]
  },
  {
   "cell_type": "code",
   "execution_count": 3,
   "metadata": {},
   "outputs": [],
   "source": [
    "info = getinfo(400, \"../simulations/\", verbose=false); # used to overwrite the previous changes"
   ]
  },
  {
   "cell_type": "markdown",
   "metadata": {},
   "source": [
    "Read the AMR and the Hydro data from all CPU files of the full box with all existing variables and cell positions (only leaf cells of the AMR grid)."
   ]
  },
  {
   "cell_type": "code",
   "execution_count": 4,
   "metadata": {},
   "outputs": [
    {
     "name": "stdout",
     "output_type": "stream",
     "text": [
      "[Mera]: Get hydro data: 2019-12-04T14:07:08.867\n",
      "\n",
      "Key vars=(:level, :cx, :cy, :cz)\n",
      "Using var(s)=(1, 2, 3, 4, 5, 6, 7) = (:rho, :vx, :vy, :vz, :p, :var6, :var7) \n",
      "\n",
      "domain:\n",
      "xmin::xmax: 0.0 :: 1.0  \t==> 0.0 [kpc] :: 48.0 [kpc]\n",
      "ymin::ymax: 0.0 :: 1.0  \t==> 0.0 [kpc] :: 48.0 [kpc]\n",
      "zmin::zmax: 0.0 :: 1.0  \t==> 0.0 [kpc] :: 48.0 [kpc]\n",
      "\n",
      "Reading data...\n"
     ]
    },
    {
     "name": "stderr",
     "output_type": "stream",
     "text": [
      "\u001b[32m  5%|██▋                                                |  ETA: 0:03:53\u001b[39m"
     ]
    },
    {
     "ename": "InterruptException",
     "evalue": "InterruptException:",
     "output_type": "error",
     "traceback": [
      "InterruptException:",
      "",
      "Stacktrace:",
      " [1] rdmarker(::IOStream, ::Function) at /Users/mabe/.julia/packages/FortranFiles/BjZQn/src/withsubrecords.jl:18",
      " [2] FortranFiles.Record(::FortranFiles.FortranFile{FortranFiles.SequentialAccess{FortranFiles.WithSubrecords},FortranFiles.Conversion{typeof(identity),typeof(identity)}}) at /Users/mabe/.julia/packages/FortranFiles/BjZQn/src/withsubrecords.jl:38",
      " [3] read at /Users/mabe/.julia/packages/FortranFiles/BjZQn/src/read.jl:28 [inlined]",
      " [4] skiplines(::FortranFiles.FortranFile{FortranFiles.SequentialAccess{FortranFiles.WithSubrecords},FortranFiles.Conversion{typeof(identity),typeof(identity)}}, ::Int64) at /Users/mabe/Documents/Projects/JuliaLanguage/Mera/Mera/src/read_data/RAMSES/gethydro.jl:699",
      " [5] gethydrodata(::InfoType, ::Int64, ::Array{Int64,1}, ::Int64, ::Array{Float64,1}, ::Bool, ::Bool, ::Bool) at /Users/mabe/Documents/Projects/JuliaLanguage/Mera/Mera/src/read_data/RAMSES/gethydro.jl:1352",
      " [6] #gethydro#9(::Int64, ::Array{Symbol,1}, ::Array{Missing,1}, ::Array{Missing,1}, ::Array{Missing,1}, ::Array{Float64,1}, ::Symbol, ::Float64, ::Float64, ::Bool, ::Bool, ::Bool, ::typeof(gethydro), ::InfoType) at /Users/mabe/Documents/Projects/JuliaLanguage/Mera/Mera/src/read_data/RAMSES/gethydro.jl:0",
      " [7] (::getfield(Mera, Symbol(\"#kw##gethydro\")))(::NamedTuple{(:smallr,),Tuple{Float64}}, ::typeof(gethydro), ::InfoType) at ./none:0",
      " [8] top-level scope at In[4]:1"
     ]
    }
   ],
   "source": [
    "gas = gethydro(info, smallr=1e-30 / info.unit_d);"
   ]
  },
  {
   "cell_type": "markdown",
   "metadata": {},
   "source": [
    "By default, the predefined hydro-variables are used when all variables are loaded. By changing the flag info.use_hydro_descriptor = true in the InfoType, all functions will automatically use the names assigned to the descriptor list."
   ]
  },
  {
   "cell_type": "markdown",
   "metadata": {},
   "source": [
    "The memory consumption of the data table is printed at the end of the function output. We provide a function which gives the possibility to print the used memory of any object: "
   ]
  },
  {
   "cell_type": "code",
   "execution_count": 11,
   "metadata": {},
   "outputs": [
    {
     "name": "stdout",
     "output_type": "stream",
     "text": [
      "Memory used: 4.52 GB\n"
     ]
    }
   ],
   "source": [
    "usedmemory(gas);"
   ]
  },
  {
   "cell_type": "markdown",
   "metadata": {},
   "source": [
    "The assigned data object is now of type *HydroDataType*:"
   ]
  },
  {
   "cell_type": "code",
   "execution_count": 6,
   "metadata": {},
   "outputs": [
    {
     "data": {
      "text/plain": [
       "HydroDataType"
      ]
     },
     "execution_count": 6,
     "metadata": {},
     "output_type": "execute_result"
    }
   ],
   "source": [
    "typeof(gas)"
   ]
  },
  {
   "cell_type": "markdown",
   "metadata": {},
   "source": [
    "It is a sub-type of to the super-type *DataSetType*"
   ]
  },
  {
   "cell_type": "code",
   "execution_count": 10,
   "metadata": {},
   "outputs": [
    {
     "data": {
      "text/plain": [
       "DataSetType"
      ]
     },
     "execution_count": 10,
     "metadata": {},
     "output_type": "execute_result"
    }
   ],
   "source": [
    "supertype( HydroDataType )"
   ]
  },
  {
   "cell_type": "markdown",
   "metadata": {},
   "source": [
    "The data is stored in a **JuliaDB** table and the user selected hydro variables and parameters are assigned to fields:"
   ]
  },
  {
   "cell_type": "code",
   "execution_count": 13,
   "metadata": {},
   "outputs": [
    {
     "name": "stdout",
     "output_type": "stream",
     "text": [
      "\n",
      "data ==> JuliaDB table: (:columns, :pkey, :perms, :cardinality, :columns_buffer)\n",
      "\n",
      "info ==> subfields: (:output, :path, :fnames, :simcode, :mtime, :ctime, :ncpu, :ndim, :levelmin, :levelmax, :boxlen, :time, :aexp, :H0, :omega_m, :omega_l, :omega_k, :omega_b, :unit_l, :unit_d, :unit_m, :unit_v, :unit_t, :hydro, :nvarh, :nvarp, :variable_list, :hydro_descriptor, :use_hydro_descriptor, :descriptorfile, :particles_variable_list, :use_particles_descriptor, :particles_descriptor, :particles_descriptorfile, :gravity, :particles, :clumps, :namelist, :headerfile, :makefile, :timerfile, :compilationfile, :Narraysize, :scale, :grid_info, :part_info, :compilation, :constants)\n",
      "\n",
      "lmin\t= 6\n",
      "lmax\t= 14\n",
      "boxlen\t= 48.0\n",
      "ranges\t= [0.0, 1.0, 0.0, 1.0, 0.0, 1.0]\n",
      "selected_hydrovars\t= [-1, 1, 2, 3, 4, 5, 6, 7]\n",
      "smallr\t= 1.4774579400791327e-8\n",
      "smallc\t= 0.0\n",
      "\n",
      "scale ==> subfields: (:Mpc, :kpc, :pc, :mpc, :ly, :Au, :km, :m, :cm, :mm, :μm, :Msol_pc3, :g_cm3, :Msol_pc2, :g_cm2, :Gyr, :Myr, :yr, :s, :ms, :Msol, :Mearth, :Mjupiter, :g, :km_s, :m_s, :cm_s, :nH, :erg, :g_cms2, :T_mu, :Ba)\n",
      "\n",
      "\n"
     ]
    }
   ],
   "source": [
    "viewfields(gas)"
   ]
  },
  {
   "cell_type": "markdown",
   "metadata": {},
   "source": [
    "For convenience, all the fields from the info-object above (InfoType) are now also accessible from the object with \"gas.info\"."
   ]
  },
  {
   "cell_type": "markdown",
   "metadata": {},
   "source": [
    "Print the fields of an object (composite type) in a simple list:"
   ]
  },
  {
   "cell_type": "code",
   "execution_count": 15,
   "metadata": {},
   "outputs": [
    {
     "data": {
      "text/plain": [
       "(:data, :info, :lmin, :lmax, :boxlen, :ranges, :selected_hydrovars, :used_descriptors, :smallr, :smallc, :scale)"
      ]
     },
     "execution_count": 15,
     "metadata": {},
     "output_type": "execute_result"
    }
   ],
   "source": [
    "propertynames(gas)"
   ]
  },
  {
   "cell_type": "markdown",
   "metadata": {},
   "source": [
    "## Overview of AMR/Hydro"
   ]
  },
  {
   "cell_type": "markdown",
   "metadata": {},
   "source": [
    "Get an overview of the AMR structure associated with the object *gas* (HydroDataType).\n",
    "The printed information is stored into the object *amr_overview* as a **JuliaDB** table (code units)  and can be used for further calculations:"
   ]
  },
  {
   "cell_type": "code",
   "execution_count": 16,
   "metadata": {},
   "outputs": [
    {
     "name": "stdout",
     "output_type": "stream",
     "text": [
      "Counting...\n"
     ]
    },
    {
     "name": "stderr",
     "output_type": "stream",
     "text": [
      "\u001b[32m100%|███████████████████████████████████████████████████| Time: 0:00:35\u001b[39m\n"
     ]
    },
    {
     "data": {
      "text/plain": [
       "Table with 9 rows, 4 columns:\n",
       "level  cells     cellsize    cpus\n",
       "─────────────────────────────────\n",
       "6      240956    0.75        52\n",
       "7      106808    0.375       113\n",
       "8      327464    0.1875      205\n",
       "9      991134    0.09375     332\n",
       "10     2463100   0.046875    562\n",
       "11     4741974   0.0234375   1086\n",
       "12     8116352   0.0117188   1832\n",
       "13     13297129  0.00585938  2046\n",
       "14     20268216  0.00292969  2024"
      ]
     },
     "execution_count": 16,
     "metadata": {},
     "output_type": "execute_result"
    }
   ],
   "source": [
    "overview_amr = amroverview(gas)"
   ]
  },
  {
   "cell_type": "markdown",
   "metadata": {},
   "source": [
    "Get some overview of the data associated with the object *gas*. The calculated information can be accessed from the object *data_overview* (here) in code units for further calculations:"
   ]
  },
  {
   "cell_type": "code",
   "execution_count": 3,
   "metadata": {
    "inputHidden": false,
    "outputHidden": false
   },
   "outputs": [
    {
     "name": "stdout",
     "output_type": "stream",
     "text": [
      "Calculating...\n"
     ]
    },
    {
     "name": "stderr",
     "output_type": "stream",
     "text": [
      "\u001b[32m100%|███████████████████████████████████████████████████| Time: 0:16:54\u001b[39m\n"
     ]
    },
    {
     "data": {
      "text/plain": [
       "Table with 9 rows, 16 columns:\n",
       "Columns:\n",
       "\u001b[1m#   \u001b[22m\u001b[1mcolname   \u001b[22m\u001b[1mtype\u001b[22m\n",
       "──────────────────\n",
       "1   level     Any\n",
       "2   mass      Any\n",
       "3   rho_min   Any\n",
       "4   rho_max   Any\n",
       "5   vx_min    Any\n",
       "6   vx_max    Any\n",
       "7   vy_min    Any\n",
       "8   vy_max    Any\n",
       "9   vz_min    Any\n",
       "10  vz_max    Any\n",
       "11  p_min     Any\n",
       "12  p_max     Any\n",
       "13  var6_min  Any\n",
       "14  var6_max  Any\n",
       "15  var7_min  Any\n",
       "16  var7_max  Any"
      ]
     },
     "execution_count": 3,
     "metadata": {},
     "output_type": "execute_result"
    }
   ],
   "source": [
    "data_overview = dataoverview(gas)"
   ]
  },
  {
   "cell_type": "markdown",
   "metadata": {},
   "source": [
    "If the column list is relatively long, the table is typically represented by an overview. To access certain columns, use the *select* function. The representation \":mass\" is called a quoted Symbol ([see in Julia documentation](https://docs.julialang.org/en/v1/manual/metaprogramming/#Symbols-1)):"
   ]
  },
  {
   "cell_type": "code",
   "execution_count": 9,
   "metadata": {},
   "outputs": [],
   "source": [
    "using JuliaDB"
   ]
  },
  {
   "cell_type": "code",
   "execution_count": 10,
   "metadata": {},
   "outputs": [
    {
     "data": {
      "text/plain": [
       "Table with 9 rows, 4 columns:\n",
       "level  mass        rho_min     rho_max\n",
       "──────────────────────────────────────────\n",
       "6      1.22391e9   1.47746e-8  0.000431662\n",
       "7      5.06534e8   1.21721e-5  0.00206836\n",
       "8      5.06957e8   1.47746e-8  0.009144\n",
       "9      1.24477e9   1.47746e-8  0.0360798\n",
       "10     2.39389e9   1.47746e-8  0.131398\n",
       "11     2.60921e9   1.47746e-8  0.487535\n",
       "12     2.21069e9   1.47746e-8  1.9644\n",
       "13     1.84323e9   1.47746e-8  8.01279\n",
       "14     1.78623e10  1.8429e-5   4.53175e5"
      ]
     },
     "execution_count": 10,
     "metadata": {},
     "output_type": "execute_result"
    }
   ],
   "source": [
    "select(data_overview, (:level,:mass, :rho_min, :rho_max ) )"
   ]
  },
  {
   "cell_type": "markdown",
   "metadata": {},
   "source": [
    "Get an array from the column \":mass\" in *data_overview* and scale it to the units *Msol*. The order of the calculated data is consistent with the table above:"
   ]
  },
  {
   "cell_type": "code",
   "execution_count": 11,
   "metadata": {},
   "outputs": [
    {
     "data": {
      "text/plain": [
       "9-element Array{Float64,1}:\n",
       " 1.223572065851951e18 \n",
       " 5.0639435550135654e17\n",
       " 5.06817168876274e17  \n",
       " 1.244424770599381e18 \n",
       " 2.3932318936680315e18\n",
       " 2.608488691728659e18 \n",
       " 2.2100749763732588e18\n",
       " 1.8427186983217672e18\n",
       " 1.7857323512254865e19"
      ]
     },
     "execution_count": 11,
     "metadata": {},
     "output_type": "execute_result"
    }
   ],
   "source": [
    "column(data_overview, :mass) .* info.scale.Msol # '.*\" corresponds to an element-wise multiplikation"
   ]
  },
  {
   "cell_type": "markdown",
   "metadata": {},
   "source": [
    "Or simply convert the *:mass* data in the table to *Msol* units by manipulating the column:"
   ]
  },
  {
   "cell_type": "code",
   "execution_count": 12,
   "metadata": {},
   "outputs": [
    {
     "name": "stderr",
     "output_type": "stream",
     "text": [
      "┌ Warning: `setcol(t, key::Union{Int, Symbol}, val)` is deprecated, use `transform(t, key => val)` instead.\n",
      "│   caller = top-level scope at In[12]:1\n",
      "└ @ Core In[12]:1\n"
     ]
    }
   ],
   "source": [
    "data_overview = setcol(data_overview, :mass, :mass => value->value * info.scale.Msol);"
   ]
  },
  {
   "cell_type": "code",
   "execution_count": 13,
   "metadata": {},
   "outputs": [
    {
     "data": {
      "text/plain": [
       "Table with 9 rows, 4 columns:\n",
       "level  mass        rho_min     rho_max\n",
       "──────────────────────────────────────────\n",
       "6      1.22357e18  1.47746e-8  0.000431662\n",
       "7      5.06394e17  1.21721e-5  0.00206836\n",
       "8      5.06817e17  1.47746e-8  0.009144\n",
       "9      1.24442e18  1.47746e-8  0.0360798\n",
       "10     2.39323e18  1.47746e-8  0.131398\n",
       "11     2.60849e18  1.47746e-8  0.487535\n",
       "12     2.21007e18  1.47746e-8  1.9644\n",
       "13     1.84272e18  1.47746e-8  8.01279\n",
       "14     1.78573e19  1.8429e-5   4.53175e5"
      ]
     },
     "execution_count": 13,
     "metadata": {},
     "output_type": "execute_result"
    }
   ],
   "source": [
    "select(data_overview, (:level, :mass, :rho_min, :rho_max ) )"
   ]
  },
  {
   "cell_type": "markdown",
   "metadata": {},
   "source": [
    "## Data Inspection\n",
    "The data is associated with the field *gas.data* as a **JuliaDB** table (code units). All the loaded properties of each cell are arranged in one row which makes it easy to find, filter, map, aggregate, group the data, etc.\n",
    "More information can be found in the MERA tutorials or in: [JuliaDB API Reference](http://juliadb.org/latest/api/)"
   ]
  },
  {
   "cell_type": "markdown",
   "metadata": {
    "inputHidden": false,
    "outputHidden": false
   },
   "source": [
    "### Table View\n",
    "Each row corresponds to a cell and its properties to the columns.\n",
    "The positions cx,cy,cz are the cell-numbers that would correspond to a uniform 3D array for each level. This is used to reconstruct the grid in many functions of **MERA** and should not be modified."
   ]
  },
  {
   "cell_type": "code",
   "execution_count": 14,
   "metadata": {},
   "outputs": [
    {
     "data": {
      "text/plain": [
       "Table with 50553133 rows, 12 columns:\n",
       "Columns:\n",
       "\u001b[1m#   \u001b[22m\u001b[1mcolname  \u001b[22m\u001b[1mtype\u001b[22m\n",
       "────────────────────\n",
       "1   level    Int64\n",
       "2   cpu      Int64\n",
       "3   cx       Int64\n",
       "4   cy       Int64\n",
       "5   cz       Int64\n",
       "6   rho      Float64\n",
       "7   vx       Float64\n",
       "8   vy       Float64\n",
       "9   vz       Float64\n",
       "10  p        Float64\n",
       "11  var6     Float64\n",
       "12  var7     Float64"
      ]
     },
     "execution_count": 14,
     "metadata": {},
     "output_type": "execute_result"
    }
   ],
   "source": [
    "gas.data"
   ]
  },
  {
   "cell_type": "markdown",
   "metadata": {},
   "source": [
    "A more detailed view into the data:"
   ]
  },
  {
   "cell_type": "code",
   "execution_count": 15,
   "metadata": {},
   "outputs": [
    {
     "data": {
      "text/plain": [
       "Table with 50553133 rows, 5 columns:\n",
       "\u001b[1mlevel  \u001b[22m\u001b[1mcx     \u001b[22m\u001b[1mcy    \u001b[22m\u001b[1mcz    \u001b[22mrho\n",
       "────────────────────────────────────\n",
       "6      1      1     1     1.47746e-8\n",
       "6      1      1     2     1.47746e-8\n",
       "6      1      1     3     1.47746e-8\n",
       "6      1      1     4     1.47746e-8\n",
       "6      1      1     5     1.47746e-8\n",
       "6      1      1     6     1.47746e-8\n",
       "6      1      1     7     1.47746e-8\n",
       "6      1      1     8     1.47746e-8\n",
       "6      1      1     9     1.47746e-8\n",
       "6      1      1     10    1.47746e-8\n",
       "6      1      1     11    1.47746e-8\n",
       "6      1      1     12    1.47746e-8\n",
       "⋮\n",
       "14     13038  8855  8122  1.41561\n",
       "14     13038  8855  8123  1.29724\n",
       "14     13038  8855  8124  1.27011\n",
       "14     13038  8856  8117  1.89495\n",
       "14     13038  8856  8118  1.83967\n",
       "14     13038  8856  8119  1.67429\n",
       "14     13038  8856  8120  1.59913\n",
       "14     13038  8856  8121  1.45658\n",
       "14     13038  8856  8122  1.41468\n",
       "14     13038  8856  8123  1.3037\n",
       "14     13038  8856  8124  1.29413"
      ]
     },
     "execution_count": 15,
     "metadata": {},
     "output_type": "execute_result"
    }
   ],
   "source": [
    "select(gas.data, (:level,:cx, :cy, :cz, :rho) )"
   ]
  }
 ],
 "metadata": {
  "kernel_info": {
   "name": "julia-0.6"
  },
  "kernelspec": {
   "display_name": "Julia 1.2.0",
   "language": "julia",
   "name": "julia-1.2"
  },
  "language_info": {
   "file_extension": ".jl",
   "mimetype": "application/julia",
   "name": "julia",
   "version": "1.2.0"
  },
  "nteract": {
   "version": "0.7.1"
  }
 },
 "nbformat": 4,
 "nbformat_minor": 4
}
